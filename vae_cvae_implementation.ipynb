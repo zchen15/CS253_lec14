{
 "cells": [
  {
   "cell_type": "markdown",
   "metadata": {},
   "source": [
    "Below is an implementation of variational autoencoders, training on MNIST. This notebook is heavily adapted from \n",
    "https://tiao.io/post/tutorial-on-variational-autoencoders-with-a-concise-keras-implementation/ and https://wiseodd.github.io/techblog/2016/12/10/variational-autoencoder/"
   ]
  },
  {
   "cell_type": "code",
   "execution_count": 1,
   "metadata": {},
   "outputs": [
    {
     "name": "stderr",
     "output_type": "stream",
     "text": [
      "Using TensorFlow backend.\n"
     ]
    },
    {
     "name": "stdout",
     "output_type": "stream",
     "text": [
      "Populating the interactive namespace from numpy and matplotlib\n"
     ]
    }
   ],
   "source": [
    "import warnings\n",
    "import numpy as np\n",
    "from keras.layers import Input, Dense, Lambda\n",
    "from keras.layers.merge import concatenate as concat\n",
    "from keras.models import Model\n",
    "from keras import backend as K\n",
    "from keras.datasets import mnist\n",
    "from keras.utils import to_categorical\n",
    "from keras.callbacks import EarlyStopping\n",
    "from keras.optimizers import Adam\n",
    "#from scipy.misc import imsave\n",
    "import matplotlib.pyplot as plt\n",
    "\n",
    "warnings.filterwarnings('ignore')\n",
    "%pylab inline"
   ]
  },
  {
   "cell_type": "markdown",
   "metadata": {},
   "source": [
    "Load and preprocess the data."
   ]
  },
  {
   "cell_type": "code",
   "execution_count": 2,
   "metadata": {},
   "outputs": [
    {
     "name": "stdout",
     "output_type": "stream",
     "text": [
      "n_pixels: 784\n"
     ]
    }
   ],
   "source": [
    "(X_train, Y_train), (X_test, Y_test) = mnist.load_data()\n",
    "\n",
    "X_train = X_train.astype('float32') / 255.\n",
    "X_test = X_test.astype('float32') / 255.\n",
    "\n",
    "n_pixels = np.prod(X_train.shape[1:])\n",
    "X_train = X_train.reshape((len(X_train), n_pixels))\n",
    "X_test = X_test.reshape((len(X_test), n_pixels))\n",
    "print(\"n_pixels: \" + str(n_pixels))"
   ]
  },
  {
   "cell_type": "markdown",
   "metadata": {},
   "source": [
    "One-hot encode the MNIST number labels."
   ]
  },
  {
   "cell_type": "code",
   "execution_count": 3,
   "metadata": {},
   "outputs": [],
   "source": [
    "y_train = to_categorical(Y_train)\n",
    "y_test = to_categorical(Y_test)"
   ]
  },
  {
   "cell_type": "markdown",
   "metadata": {},
   "source": [
    "Set hyperparameters for training."
   ]
  },
  {
   "cell_type": "code",
   "execution_count": 4,
   "metadata": {},
   "outputs": [
    {
     "name": "stdout",
     "output_type": "stream",
     "text": [
      "WARNING:tensorflow:From /usr/local/lib/python3.7/site-packages/tensorflow/python/framework/op_def_library.py:263: colocate_with (from tensorflow.python.framework.ops) is deprecated and will be removed in a future version.\n",
      "Instructions for updating:\n",
      "Colocations handled automatically by placer.\n"
     ]
    }
   ],
   "source": [
    "m = 250 # batch size\n",
    "n_z = 2 # latent space size\n",
    "encoder_dim1 = 512 # dim of encoder hidden layer\n",
    "decoder_dim = 512 # dim of decoder hidden layer\n",
    "decoder_out_dim = 784 # dim of decoder output layer\n",
    "activ = 'relu'\n",
    "optim = Adam(lr=0.001)\n",
    "\n",
    "\n",
    "n_x = X_train.shape[1]\n",
    "n_y = y_train.shape[1]\n",
    "\n",
    "\n",
    "n_epoch = 25"
   ]
  },
  {
   "cell_type": "markdown",
   "metadata": {},
   "source": [
    "# Variational Autoencoders"
   ]
  },
  {
   "cell_type": "markdown",
   "metadata": {},
   "source": [
    "First, we specify the encoder architecture, which will be a one hidden layer neural network (with 512 neurons)"
   ]
  },
  {
   "cell_type": "code",
   "execution_count": 5,
   "metadata": {},
   "outputs": [],
   "source": [
    "X = Input(shape=(n_x,))\n",
    "encoder_h = Dense(encoder_dim1, activation=activ)(X)\n",
    "mu = Dense(n_z, activation='linear')(encoder_h)\n",
    "l_sigma = Dense(n_z, activation='linear')(encoder_h)"
   ]
  },
  {
   "cell_type": "markdown",
   "metadata": {},
   "source": [
    "We implement the reparametrization trick as a special keras Lambda layer."
   ]
  },
  {
   "cell_type": "code",
   "execution_count": 33,
   "metadata": {},
   "outputs": [
    {
     "name": "stdout",
     "output_type": "stream",
     "text": [
      "250\n"
     ]
    }
   ],
   "source": [
    "# reparametrization trick\n",
    "def sample_z(args):\n",
    "    mu, l_sigma = args\n",
    "    eps = K.random_normal(shape=(m, n_z), mean=0., stddev=1.)\n",
    "    return mu + K.exp(l_sigma / 2) * eps\n",
    "\n",
    "# Sampling latent space\n",
    "z = Lambda(sample_z, output_shape = (n_z, ))([mu, l_sigma])"
   ]
  },
  {
   "cell_type": "markdown",
   "metadata": {},
   "source": [
    "We next specify the decoder, which is also a one-layer hidden neural network."
   ]
  },
  {
   "cell_type": "code",
   "execution_count": 7,
   "metadata": {},
   "outputs": [],
   "source": [
    "decoder_hidden = Dense(512, activation='relu')\n",
    "decoder_out = Dense(784, activation='sigmoid')\n",
    "\n",
    "h_p = decoder_hidden(z)\n",
    "outputs = decoder_out(h_p)"
   ]
  },
  {
   "cell_type": "markdown",
   "metadata": {},
   "source": [
    "In variational autoencoders, we are optimizing the variational objective (also called ELBO). We specify this in Keras:"
   ]
  },
  {
   "cell_type": "code",
   "execution_count": 8,
   "metadata": {},
   "outputs": [],
   "source": [
    "def vae_loss(y_true, y_pred):\n",
    "    # E[]\n",
    "    recon = K.sum(K.binary_crossentropy(y_true, y_pred), axis=-1)\n",
    "    # closed from KL divergence between two gaussians\n",
    "    kl = 0.5 * K.sum(K.exp(l_sigma) + K.square(mu) - 1. - l_sigma, axis=-1)\n",
    "    return recon + kl"
   ]
  },
  {
   "cell_type": "markdown",
   "metadata": {},
   "source": [
    "We set up the model, encoder, and decoder, then compile and train."
   ]
  },
  {
   "cell_type": "code",
   "execution_count": 9,
   "metadata": {},
   "outputs": [],
   "source": [
    "# Overall VAE Model\n",
    "vae = Model([X], outputs)\n",
    "\n",
    "# Set encoder model\n",
    "encoder = Model([X], mu)\n",
    "\n",
    "# Set decoder model\n",
    "d_in = Input(shape=(n_z,))\n",
    "d_h = decoder_hidden(d_in)\n",
    "d_out = decoder_out(d_h)\n",
    "decoder = Model(d_in, d_out)   "
   ]
  },
  {
   "cell_type": "code",
   "execution_count": 10,
   "metadata": {},
   "outputs": [
    {
     "name": "stdout",
     "output_type": "stream",
     "text": [
      "WARNING:tensorflow:From /usr/local/lib/python3.7/site-packages/tensorflow/python/ops/math_ops.py:3066: to_int32 (from tensorflow.python.ops.math_ops) is deprecated and will be removed in a future version.\n",
      "Instructions for updating:\n",
      "Use tf.cast instead.\n",
      "Train on 60000 samples, validate on 10000 samples\n",
      "Epoch 1/25\n",
      "60000/60000 [==============================] - 8s 137us/step - loss: 212.4778 - val_loss: 181.5907\n",
      "Epoch 2/25\n",
      "60000/60000 [==============================] - 8s 127us/step - loss: 176.1722 - val_loss: 170.8480\n",
      "Epoch 3/25\n",
      "60000/60000 [==============================] - 8s 129us/step - loss: 168.7633 - val_loss: 166.7902\n",
      "Epoch 4/25\n",
      "60000/60000 [==============================] - 8s 128us/step - loss: 165.8554 - val_loss: 164.8521\n",
      "Epoch 5/25\n",
      "60000/60000 [==============================] - 8s 129us/step - loss: 164.0024 - val_loss: 163.4009\n",
      "Epoch 6/25\n",
      "60000/60000 [==============================] - 8s 133us/step - loss: 162.6114 - val_loss: 162.1880\n",
      "Epoch 7/25\n",
      "60000/60000 [==============================] - 8s 128us/step - loss: 161.4696 - val_loss: 161.2867\n",
      "Epoch 8/25\n",
      "60000/60000 [==============================] - 8s 127us/step - loss: 160.4998 - val_loss: 160.3219\n",
      "Epoch 9/25\n",
      "60000/60000 [==============================] - 8s 129us/step - loss: 159.6317 - val_loss: 159.8568\n",
      "Epoch 10/25\n",
      "60000/60000 [==============================] - 8s 128us/step - loss: 158.7911 - val_loss: 158.8726\n",
      "Epoch 11/25\n",
      "60000/60000 [==============================] - 8s 128us/step - loss: 157.9483 - val_loss: 158.2516\n",
      "Epoch 12/25\n",
      "60000/60000 [==============================] - 8s 129us/step - loss: 157.2155 - val_loss: 157.3916\n",
      "Epoch 13/25\n",
      "60000/60000 [==============================] - 8s 128us/step - loss: 156.4359 - val_loss: 156.8369\n",
      "Epoch 14/25\n",
      "60000/60000 [==============================] - 8s 129us/step - loss: 155.8170 - val_loss: 156.4343\n",
      "Epoch 15/25\n",
      "60000/60000 [==============================] - 8s 128us/step - loss: 155.1729 - val_loss: 155.7200\n",
      "Epoch 16/25\n",
      "60000/60000 [==============================] - 8s 128us/step - loss: 154.6291 - val_loss: 155.1507\n",
      "Epoch 17/25\n",
      "60000/60000 [==============================] - 8s 128us/step - loss: 154.1262 - val_loss: 154.9199\n",
      "Epoch 18/25\n",
      "60000/60000 [==============================] - 8s 130us/step - loss: 153.7006 - val_loss: 154.6187\n",
      "Epoch 19/25\n",
      "60000/60000 [==============================] - 8s 129us/step - loss: 153.2490 - val_loss: 154.2612\n",
      "Epoch 20/25\n",
      "60000/60000 [==============================] - 8s 129us/step - loss: 152.8796 - val_loss: 153.9125\n",
      "Epoch 21/25\n",
      "60000/60000 [==============================] - 8s 131us/step - loss: 152.4870 - val_loss: 153.5882\n",
      "Epoch 22/25\n",
      "60000/60000 [==============================] - 8s 129us/step - loss: 152.1687 - val_loss: 153.5106\n",
      "Epoch 23/25\n",
      "60000/60000 [==============================] - 8s 127us/step - loss: 151.8917 - val_loss: 153.3378\n",
      "Epoch 24/25\n",
      "60000/60000 [==============================] - 8s 128us/step - loss: 151.6005 - val_loss: 153.3277\n",
      "Epoch 25/25\n",
      "60000/60000 [==============================] - 8s 128us/step - loss: 151.3747 - val_loss: 152.8529\n"
     ]
    }
   ],
   "source": [
    "vae.compile(optimizer=optim, loss=vae_loss)\n",
    "\n",
    "vae_hist = vae.fit([X_train], X_train, verbose = 1, batch_size=m, epochs=n_epoch,\n",
    "                     validation_data = ([X_test], X_test),\n",
    "                     callbacks = [EarlyStopping(patience = 5)])"
   ]
  },
  {
   "cell_type": "markdown",
   "metadata": {},
   "source": [
    "We test the output of the decoder on some settings of the latent variables."
   ]
  },
  {
   "cell_type": "code",
   "execution_count": 42,
   "metadata": {},
   "outputs": [
    {
     "data": {
      "text/plain": [
       "<matplotlib.image.AxesImage at 0x13cc30a20>"
      ]
     },
     "execution_count": 42,
     "metadata": {},
     "output_type": "execute_result"
    },
    {
     "data": {
      "image/png": "[encoded data removed]",
      "text/plain": [
       "<Figure size 432x288 with 1 Axes>"
      ]
     },
     "metadata": {
      "needs_background": "light"
     },
     "output_type": "display_data"
    }
   ],
   "source": [
    "latents = np.random.normal(size=2)\n",
    "latents = [0, 2]\n",
    "x_decoded = decoder.predict(np.array(latents).reshape(1, 2))\n",
    "x_decoded = x_decoded.reshape(28, 28)\n",
    "plt.imshow(x_decoded, cmap=plt.cm.gray)"
   ]
  },
  {
   "cell_type": "markdown",
   "metadata": {},
   "source": [
    "### Conditional Variational Autoencoders"
   ]
  },
  {
   "cell_type": "markdown",
   "metadata": {},
   "source": [
    "In the CVAE training, we add the one-hot encoded label of the training image to the input to the network. Everything else is exactly the same."
   ]
  },
  {
   "cell_type": "code",
   "execution_count": 12,
   "metadata": {},
   "outputs": [],
   "source": [
    "X = Input(shape=(n_x,))\n",
    "label = Input(shape=(n_y,))\n",
    "# Concatenate\n",
    "inputs = concat([X, label])"
   ]
  },
  {
   "cell_type": "code",
   "execution_count": 13,
   "metadata": {},
   "outputs": [],
   "source": [
    "encoder_h = Dense(encoder_dim1, activation=activ)(inputs)\n",
    "mu = Dense(n_z, activation='linear')(encoder_h)\n",
    "l_sigma = Dense(n_z, activation='linear')(encoder_h)"
   ]
  },
  {
   "cell_type": "code",
   "execution_count": 17,
   "metadata": {
    "scrolled": true
   },
   "outputs": [],
   "source": [
    "# reparametrization trick\n",
    "def sample_z(args):\n",
    "    mu, l_sigma = args\n",
    "    eps = K.random_normal(shape=(m, n_z), mean=0., stddev=1.)\n",
    "    return mu + K.exp(l_sigma / 2) * eps\n",
    "\n",
    "\n",
    "# Sampling latent space\n",
    "z = Lambda(sample_z, output_shape = (n_z, ))([mu, l_sigma])"
   ]
  },
  {
   "cell_type": "markdown",
   "metadata": {},
   "source": [
    "We have to add the label to the decoder input as well."
   ]
  },
  {
   "cell_type": "code",
   "execution_count": 18,
   "metadata": {},
   "outputs": [],
   "source": [
    "z = Lambda(sample_z, output_shape = (n_z, ))([mu, l_sigma])\n",
    "\n",
    "# merge latent space with label\n",
    "zc = concat([z, label])\n",
    "\n",
    "\n",
    "decoder_hidden = Dense(decoder_dim, activation=activ)\n",
    "decoder_out = Dense(decoder_out_dim, activation='sigmoid')\n",
    "h_p = decoder_hidden(zc)\n",
    "outputs = decoder_out(h_p)"
   ]
  },
  {
   "cell_type": "code",
   "execution_count": 19,
   "metadata": {},
   "outputs": [],
   "source": [
    "cvae = Model([X, label], outputs)\n",
    "cvae_encoder = Model([X, label], mu)\n",
    "\n",
    "d_in = Input(shape=(n_z+n_y,))\n",
    "d_h = decoder_hidden(d_in)\n",
    "d_out = decoder_out(d_h)\n",
    "cvae_decoder = Model(d_in, d_out)"
   ]
  },
  {
   "cell_type": "markdown",
   "metadata": {},
   "source": [
    "Finally, compile and train."
   ]
  },
  {
   "cell_type": "code",
   "execution_count": 20,
   "metadata": {},
   "outputs": [
    {
     "name": "stdout",
     "output_type": "stream",
     "text": [
      "Train on 60000 samples, validate on 10000 samples\n",
      "Epoch 1/25\n",
      "60000/60000 [==============================] - 8s 138us/step - loss: 161.2080 - val_loss: 142.3902\n",
      "Epoch 2/25\n",
      "60000/60000 [==============================] - 8s 131us/step - loss: 140.7462 - val_loss: 139.1391\n",
      "Epoch 3/25\n",
      "60000/60000 [==============================] - 8s 130us/step - loss: 138.3949 - val_loss: 137.6539\n",
      "Epoch 4/25\n",
      "60000/60000 [==============================] - 8s 131us/step - loss: 137.0234 - val_loss: 136.5416\n",
      "Epoch 5/25\n",
      "60000/60000 [==============================] - 8s 132us/step - loss: 136.1507 - val_loss: 135.6963\n",
      "Epoch 6/25\n",
      "60000/60000 [==============================] - 8s 131us/step - loss: 135.4750 - val_loss: 135.3262\n",
      "Epoch 7/25\n",
      "60000/60000 [==============================] - 8s 131us/step - loss: 134.9531 - val_loss: 134.9398\n",
      "Epoch 8/25\n",
      "60000/60000 [==============================] - 8s 130us/step - loss: 134.5000 - val_loss: 134.4973\n",
      "Epoch 9/25\n",
      "60000/60000 [==============================] - 8s 130us/step - loss: 134.1207 - val_loss: 134.1453\n",
      "Epoch 10/25\n",
      "60000/60000 [==============================] - 8s 131us/step - loss: 133.8128 - val_loss: 134.0402\n",
      "Epoch 11/25\n",
      "60000/60000 [==============================] - 8s 130us/step - loss: 133.5440 - val_loss: 133.7332\n",
      "Epoch 12/25\n",
      "60000/60000 [==============================] - 8s 131us/step - loss: 133.2941 - val_loss: 133.5588\n",
      "Epoch 13/25\n",
      "60000/60000 [==============================] - 8s 131us/step - loss: 133.0543 - val_loss: 133.3324\n",
      "Epoch 14/25\n",
      "60000/60000 [==============================] - 8s 132us/step - loss: 132.8674 - val_loss: 133.1686\n",
      "Epoch 15/25\n",
      "60000/60000 [==============================] - 8s 134us/step - loss: 132.6531 - val_loss: 132.9634\n",
      "Epoch 16/25\n",
      "60000/60000 [==============================] - 8s 134us/step - loss: 132.4806 - val_loss: 132.9788\n",
      "Epoch 17/25\n",
      "60000/60000 [==============================] - 8s 132us/step - loss: 132.3084 - val_loss: 132.8257\n",
      "Epoch 18/25\n",
      "60000/60000 [==============================] - 8s 132us/step - loss: 132.1527 - val_loss: 132.7890\n",
      "Epoch 19/25\n",
      "60000/60000 [==============================] - 8s 132us/step - loss: 132.0066 - val_loss: 132.5520\n",
      "Epoch 20/25\n",
      "60000/60000 [==============================] - 8s 133us/step - loss: 131.8598 - val_loss: 132.4463\n",
      "Epoch 21/25\n",
      "60000/60000 [==============================] - 8s 132us/step - loss: 131.7338 - val_loss: 132.2901\n",
      "Epoch 22/25\n",
      "60000/60000 [==============================] - 8s 131us/step - loss: 131.6054 - val_loss: 132.2637\n",
      "Epoch 23/25\n",
      "60000/60000 [==============================] - 8s 131us/step - loss: 131.4909 - val_loss: 132.1059\n",
      "Epoch 24/25\n",
      "60000/60000 [==============================] - 8s 131us/step - loss: 131.4142 - val_loss: 132.0530\n",
      "Epoch 25/25\n",
      "60000/60000 [==============================] - 8s 132us/step - loss: 131.2671 - val_loss: 131.9283\n"
     ]
    }
   ],
   "source": [
    "cvae.compile(optimizer=optim, loss=vae_loss)\n",
    "\n",
    "cvae_hist = cvae.fit([X_train, y_train], X_train, verbose = 1, batch_size=m, epochs=n_epoch,\n",
    "                     validation_data = ([X_test, y_test], X_test),\n",
    "                     callbacks = [EarlyStopping(patience = 5)])"
   ]
  },
  {
   "cell_type": "code",
   "execution_count": 21,
   "metadata": {},
   "outputs": [
    {
     "data": {
      "image/png": "[encoded data removed]",
      "text/plain": [
       "<Figure size 432x288 with 1 Axes>"
      ]
     },
     "metadata": {
      "needs_background": "light"
     },
     "output_type": "display_data"
    }
   ],
   "source": [
    "plt.imshow(X_train[909].reshape(28, 28), cmap = plt.cm.gray), axis('off')\n",
    "plt.show()"
   ]
  },
  {
   "cell_type": "markdown",
   "metadata": {},
   "source": [
    "We can feed this image into the encoder to see what latent variable settings it has."
   ]
  },
  {
   "cell_type": "code",
   "execution_count": 22,
   "metadata": {},
   "outputs": [
    {
     "name": "stdout",
     "output_type": "stream",
     "text": [
      "[[ 0.98373777 -0.04653868]]\n"
     ]
    }
   ],
   "source": [
    "encoded_X0 = cvae_encoder.predict([X_train[909].reshape((1, 784)), y_train[0].reshape((1, 10))])\n",
    "print(encoded_X0)"
   ]
  },
  {
   "cell_type": "code",
   "execution_count": 23,
   "metadata": {},
   "outputs": [],
   "source": [
    "def construct_numvec(digit, z = [-1, -1]):\n",
    "    out = np.zeros((1, n_z + n_y))\n",
    "    out[:, digit + n_z] = .5\n",
    "    out[:, digit + n_z -1] = .5\n",
    "    if z is None:\n",
    "        return(out)\n",
    "    else:\n",
    "        for i in range(len(z)):\n",
    "            out[:,i] = z[i]\n",
    "        return(out)"
   ]
  },
  {
   "cell_type": "code",
   "execution_count": 24,
   "metadata": {
    "scrolled": true
   },
   "outputs": [
    {
     "data": {
      "image/png": "[encoded data removed]",
      "text/plain": [
       "<Figure size 216x216 with 1 Axes>"
      ]
     },
     "metadata": {
      "needs_background": "light"
     },
     "output_type": "display_data"
    }
   ],
   "source": [
    "digit=9\n",
    "plt.figure(figsize=(3, 3))\n",
    "plt.imshow(cvae_decoder.predict(construct_numvec(digit)).reshape(28,28), cmap = plt.cm.gray), axis('off')\n",
    "plt.show()"
   ]
  },
  {
   "cell_type": "code",
   "execution_count": 25,
   "metadata": {},
   "outputs": [
    {
     "data": {
      "image/png": "[encoded data removed]",
      "text/plain": [
       "<Figure size 432x288 with 64 Axes>"
      ]
     },
     "metadata": {
      "needs_background": "light"
     },
     "output_type": "display_data"
    }
   ],
   "source": [
    "dig = 3\n",
    "sides = 8\n",
    "max_z = 1.5\n",
    "\n",
    "img_it = 0\n",
    "for i in range(0, sides):\n",
    "    z1 = (((i / (sides-1)) * max_z)*2) - max_z\n",
    "    for j in range(0, sides):\n",
    "        z2 = (((j / (sides-1)) * max_z)*2) - max_z\n",
    "        z_ = [z1, z2]\n",
    "        vec = construct_numvec(dig, z_)\n",
    "        decoded = cvae_decoder.predict(vec)\n",
    "        subplot(sides, sides, 1 + img_it)\n",
    "        img_it +=1\n",
    "        plt.imshow(decoded.reshape(28, 28), cmap = plt.cm.gray), axis('off')\n",
    "        \n",
    "plt.subplots_adjust(left=0, bottom=0, right=1, top=1, wspace=0, hspace=.2)\n",
    "plt.show()"
   ]
  }
 ],
 "metadata": {
  "kernelspec": {
   "display_name": "Python 3",
   "language": "python",
   "name": "python3"
  },
  "language_info": {
   "codemirror_mode": {
    "name": "ipython",
    "version": 3
   },
   "file_extension": ".py",
   "mimetype": "text/x-python",
   "name": "python",
   "nbconvert_exporter": "python",
   "pygments_lexer": "ipython3",
   "version": "3.7.3"
  }
 },
 "nbformat": 4,
 "nbformat_minor": 2
}
