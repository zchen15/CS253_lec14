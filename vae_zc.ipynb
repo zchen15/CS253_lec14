{
 "cells": [
  {
   "cell_type": "markdown",
   "metadata": {},
   "source": [
    "# Inception Score Demo\n",
    "\n",
    "\n",
    "Variational autoencoders, training on MNIST was adapted from:\n",
    "- https://tiao.io/post/tutorial-on-variational-autoencoders-with-a-concise-keras-implementation/ \n",
    "- https://wiseodd.github.io/techblog/2016/12/10/variational-autoencoder/\n",
    "\n",
    "MNIST Classifier was adapted from CS155 homework 4"
   ]
  },
  {
   "cell_type": "markdown",
   "metadata": {},
   "source": [
    "## Loading Relevant Libraries"
   ]
  },
  {
   "cell_type": "code",
   "execution_count": 2,
   "metadata": {},
   "outputs": [
    {
     "name": "stderr",
     "output_type": "stream",
     "text": [
      "Using TensorFlow backend.\n"
     ]
    },
    {
     "name": "stdout",
     "output_type": "stream",
     "text": [
      "Populating the interactive namespace from numpy and matplotlib\n"
     ]
    }
   ],
   "source": [
    "import warnings\n",
    "import numpy as np\n",
    "from keras.layers import Input, Dense, Lambda\n",
    "from keras.layers.merge import concatenate as concat\n",
    "from keras.models import Model\n",
    "from keras import backend as K\n",
    "from keras.datasets import mnist\n",
    "from keras.utils import to_categorical\n",
    "from keras.callbacks import EarlyStopping\n",
    "from keras.optimizers import Adam\n",
    "#from scipy.misc import imsave\n",
    "import matplotlib.pyplot as plt\n",
    "\n",
    "warnings.filterwarnings('ignore')\n",
    "%pylab inline"
   ]
  },
  {
   "cell_type": "markdown",
   "metadata": {},
   "source": [
    "## Load MNIST data"
   ]
  },
  {
   "cell_type": "code",
   "execution_count": 4,
   "metadata": {},
   "outputs": [
    {
     "name": "stdout",
     "output_type": "stream",
     "text": [
      "n_pixels: 784\n"
     ]
    }
   ],
   "source": [
    "(X_train, Y_train), (X_test, Y_test) = mnist.load_data()\n",
    "\n",
    "X_train = X_train.astype('float32') / 255.\n",
    "X_test = X_test.astype('float32') / 255.\n",
    "\n",
    "n_pixels = np.prod(X_train.shape[1:])\n",
    "X_train = X_train.reshape((len(X_train), n_pixels))\n",
    "X_test = X_test.reshape((len(X_test), n_pixels))\n",
    "print(\"n_pixels: \" + str(n_pixels))\n",
    "\n",
    "# One-hot encode the MNIST data\n",
    "y_train = to_categorical(Y_train)\n",
    "y_test = to_categorical(Y_test)"
   ]
  },
  {
   "cell_type": "markdown",
   "metadata": {},
   "source": [
    "## Variational Autoencoders"
   ]
  },
  {
   "cell_type": "code",
   "execution_count": 5,
   "metadata": {
    "scrolled": true
   },
   "outputs": [],
   "source": [
    "# Set hyperparameters for VAE training.\n",
    "m = 250 # batch size\n",
    "n_z = 2 # latent space size\n",
    "encoder_dim1 = 512 # dim of encoder hidden layer\n",
    "decoder_dim = 512 # dim of decoder hidden layer\n",
    "decoder_out_dim = 784 # dim of decoder output layer\n",
    "activ = 'relu'\n",
    "optim = Adam(lr=0.001)\n",
    "\n",
    "n_x = X_train.shape[1]\n",
    "n_y = y_train.shape[1]\n",
    "n_epoch = 25"
   ]
  },
  {
   "cell_type": "markdown",
   "metadata": {},
   "source": [
    "### Defining the regular VAE"
   ]
  },
  {
   "cell_type": "code",
   "execution_count": 12,
   "metadata": {},
   "outputs": [],
   "source": [
    "# Defining the variational autoencoder\n",
    "X = Input(shape=(n_x,))\n",
    "encoder_h = Dense(encoder_dim1, activation=activ)(X)\n",
    "mu = Dense(n_z, activation='linear')(encoder_h)\n",
    "l_sigma = Dense(n_z, activation='linear')(encoder_h)\n",
    "\n",
    "# Defining the latent space\n",
    "# reparametrization trick\n",
    "def sample_z(args):\n",
    "    mu, l_sigma = args\n",
    "    eps = K.random_normal(shape=(m, n_z), mean=0., stddev=1.)\n",
    "    return mu + K.exp(l_sigma / 2) * eps\n",
    "\n",
    "# Sampling latent space\n",
    "z = Lambda(sample_z, output_shape = (n_z, ))([mu, l_sigma])\n",
    "\n",
    "decoder_hidden = Dense(512, activation='relu')\n",
    "h_p = decoder_hidden(z)\n",
    "\n",
    "decoder_out = Dense(784, activation='sigmoid')\n",
    "outputs = decoder_out(h_p)\n",
    "\n",
    "# Defining the VAE loss\n",
    "def vae_loss(y_true, y_pred):\n",
    "    recon = K.sum(K.binary_crossentropy(y_true, y_pred), axis=-1)\n",
    "    # closed from KL divergence between two gaussians\n",
    "    kl = 0.5 * K.sum(K.exp(l_sigma) + K.square(mu) - 1. - l_sigma, axis=-1)\n",
    "    return recon + kl\n",
    "\n",
    "# Overall VAE Model\n",
    "vae = Model([X], outputs)\n",
    "\n",
    "# Set encoder model\n",
    "encoder_mu = Model([X], mu)\n",
    "encoder_sigma = Model([X], l_sigma)\n",
    "\n",
    "# Set decoder model\n",
    "d_in = Input(shape=(n_z,))\n",
    "d_h = decoder_hidden(d_in)\n",
    "d_out = decoder_out(d_h)\n",
    "decoder = Model(d_in, d_out)"
   ]
  },
  {
   "cell_type": "code",
   "execution_count": 8,
   "metadata": {},
   "outputs": [
    {
     "name": "stdout",
     "output_type": "stream",
     "text": [
      "WARNING:tensorflow:From /usr/local/lib/python3.7/site-packages/tensorflow/python/ops/math_ops.py:3066: to_int32 (from tensorflow.python.ops.math_ops) is deprecated and will be removed in a future version.\n",
      "Instructions for updating:\n",
      "Use tf.cast instead.\n",
      "Train on 60000 samples, validate on 10000 samples\n",
      "Epoch 1/25\n",
      "60000/60000 [==============================] - 12s 194us/step - loss: 213.1828 - val_loss: 181.4013\n",
      "Epoch 2/25\n",
      "60000/60000 [==============================] - 10s 168us/step - loss: 175.1059 - val_loss: 169.9893\n",
      "Epoch 3/25\n",
      "60000/60000 [==============================] - 10s 168us/step - loss: 168.0174 - val_loss: 166.6375\n",
      "Epoch 4/25\n",
      "60000/60000 [==============================] - 11s 175us/step - loss: 165.4562 - val_loss: 164.7947\n",
      "Epoch 5/25\n",
      "60000/60000 [==============================] - 10s 172us/step - loss: 163.7603 - val_loss: 163.3522\n",
      "Epoch 6/25\n",
      "60000/60000 [==============================] - 13s 210us/step - loss: 162.4304 - val_loss: 162.2929\n",
      "Epoch 7/25\n",
      "60000/60000 [==============================] - 10s 173us/step - loss: 161.2916 - val_loss: 161.1462\n",
      "Epoch 8/25\n",
      "60000/60000 [==============================] - 11s 179us/step - loss: 160.1962 - val_loss: 160.0161\n",
      "Epoch 9/25\n",
      "60000/60000 [==============================] - 10s 167us/step - loss: 159.1350 - val_loss: 159.1890\n",
      "Epoch 10/25\n",
      "60000/60000 [==============================] - 11s 181us/step - loss: 158.2390 - val_loss: 158.3096\n",
      "Epoch 11/25\n",
      "60000/60000 [==============================] - 12s 196us/step - loss: 157.3958 - val_loss: 157.6199\n",
      "Epoch 12/25\n",
      "60000/60000 [==============================] - 12s 196us/step - loss: 156.7005 - val_loss: 157.2109\n",
      "Epoch 13/25\n",
      "60000/60000 [==============================] - 11s 182us/step - loss: 155.9803 - val_loss: 156.4505\n",
      "Epoch 14/25\n",
      "60000/60000 [==============================] - 12s 196us/step - loss: 155.4007 - val_loss: 156.0754\n",
      "Epoch 15/25\n",
      "60000/60000 [==============================] - 11s 191us/step - loss: 154.8308 - val_loss: 155.4181\n",
      "Epoch 16/25\n",
      "60000/60000 [==============================] - 12s 197us/step - loss: 154.3207 - val_loss: 155.4070\n",
      "Epoch 17/25\n",
      "60000/60000 [==============================] - 11s 182us/step - loss: 153.8552 - val_loss: 154.9352\n",
      "Epoch 18/25\n",
      "60000/60000 [==============================] - 11s 188us/step - loss: 153.4564 - val_loss: 154.5585\n",
      "Epoch 19/25\n",
      "60000/60000 [==============================] - 11s 186us/step - loss: 153.0165 - val_loss: 154.1914\n",
      "Epoch 20/25\n",
      "60000/60000 [==============================] - 12s 197us/step - loss: 152.6495 - val_loss: 153.8882\n",
      "Epoch 21/25\n",
      "60000/60000 [==============================] - 11s 177us/step - loss: 152.3574 - val_loss: 153.6012\n",
      "Epoch 22/25\n",
      "60000/60000 [==============================] - 10s 161us/step - loss: 151.9788 - val_loss: 153.5251\n",
      "Epoch 23/25\n",
      "60000/60000 [==============================] - 10s 159us/step - loss: 151.6914 - val_loss: 153.2568\n",
      "Epoch 24/25\n",
      "60000/60000 [==============================] - 10s 164us/step - loss: 151.4474 - val_loss: 153.0177\n",
      "Epoch 25/25\n",
      "60000/60000 [==============================] - 11s 185us/step - loss: 151.1839 - val_loss: 152.8197\n"
     ]
    }
   ],
   "source": [
    "# VAE training\n",
    "vae.compile(optimizer=optim, loss=vae_loss)\n",
    "\n",
    "vae_hist = vae.fit([X_train], X_train, verbose = 1, batch_size=m, epochs=n_epoch,\n",
    "                     validation_data = ([X_test], X_test),\n",
    "                     callbacks = [EarlyStopping(patience = 5)])"
   ]
  },
  {
   "cell_type": "markdown",
   "metadata": {},
   "source": [
    "### Defining the Conditional VAE"
   ]
  },
  {
   "cell_type": "code",
   "execution_count": 13,
   "metadata": {},
   "outputs": [],
   "source": [
    "# In the CVAE training, we add the one-hot encoded label of the training image to the input to the network. Everything else is exactly the same.\n",
    "X = Input(shape=(n_x,))\n",
    "label = Input(shape=(n_y,))\n",
    "# Concatenate\n",
    "inputs = concat([X, label])\n",
    "\n",
    "encoder_h = Dense(encoder_dim1, activation=activ)(inputs)\n",
    "mu = Dense(n_z, activation='linear')(encoder_h)\n",
    "l_sigma = Dense(n_z, activation='linear')(encoder_h)\n",
    "\n",
    "# reparametrization trick\n",
    "def sample_z(args):\n",
    "    mu, l_sigma = args\n",
    "    eps = K.random_normal(shape=(m, n_z), mean=0., stddev=1.)\n",
    "    return mu + K.exp(l_sigma / 2) * eps\n",
    "\n",
    "\n",
    "# Sampling latent space\n",
    "z = Lambda(sample_z, output_shape = (n_z, ))([mu, l_sigma])\n",
    "\n",
    "z = Lambda(sample_z, output_shape = (n_z, ))([mu, l_sigma])\n",
    "\n",
    "# merge latent space with label\n",
    "zc = concat([z, label])\n",
    "\n",
    "decoder_hidden = Dense(decoder_dim, activation=activ)\n",
    "decoder_out = Dense(decoder_out_dim, activation='sigmoid')\n",
    "h_p = decoder_hidden(zc)\n",
    "outputs = decoder_out(h_p)\n",
    "\n",
    "# Setup the model and compile\n",
    "\n",
    "cvae = Model([X, label], outputs)\n",
    "cvae_encoder = Model([X, label], mu)\n",
    "\n",
    "d_in = Input(shape=(n_z+n_y,))\n",
    "d_h = decoder_hidden(d_in)\n",
    "d_out = decoder_out(d_h)\n",
    "cvae_decoder = Model(d_in, d_out)"
   ]
  },
  {
   "cell_type": "code",
   "execution_count": 14,
   "metadata": {
    "scrolled": false
   },
   "outputs": [
    {
     "name": "stdout",
     "output_type": "stream",
     "text": [
      "Train on 60000 samples, validate on 10000 samples\n",
      "Epoch 1/25\n",
      "60000/60000 [==============================] - 12s 208us/step - loss: 161.6569 - val_loss: 143.3300\n",
      "Epoch 2/25\n",
      "60000/60000 [==============================] - 12s 193us/step - loss: 141.4649 - val_loss: 139.8000\n",
      "Epoch 3/25\n",
      "60000/60000 [==============================] - 10s 169us/step - loss: 138.9290 - val_loss: 137.9071\n",
      "Epoch 4/25\n",
      "60000/60000 [==============================] - 11s 179us/step - loss: 137.4793 - val_loss: 136.8887\n",
      "Epoch 5/25\n",
      "60000/60000 [==============================] - 12s 201us/step - loss: 136.4311 - val_loss: 136.0308\n",
      "Epoch 6/25\n",
      "60000/60000 [==============================] - 12s 194us/step - loss: 135.6917 - val_loss: 135.4825\n",
      "Epoch 7/25\n",
      "60000/60000 [==============================] - 15s 243us/step - loss: 135.1002 - val_loss: 135.0131\n",
      "Epoch 8/25\n",
      "60000/60000 [==============================] - 13s 218us/step - loss: 134.6206 - val_loss: 134.6201\n",
      "Epoch 9/25\n",
      "60000/60000 [==============================] - 14s 237us/step - loss: 134.2103 - val_loss: 134.3649\n",
      "Epoch 10/25\n",
      "60000/60000 [==============================] - 11s 186us/step - loss: 133.8650 - val_loss: 134.0873\n",
      "Epoch 11/25\n",
      "60000/60000 [==============================] - 10s 172us/step - loss: 133.5410 - val_loss: 133.8604\n",
      "Epoch 12/25\n",
      "60000/60000 [==============================] - 13s 210us/step - loss: 133.3347 - val_loss: 133.6887\n",
      "Epoch 13/25\n",
      "60000/60000 [==============================] - 14s 226us/step - loss: 133.0741 - val_loss: 133.4012\n",
      "Epoch 14/25\n",
      "60000/60000 [==============================] - 13s 212us/step - loss: 132.8531 - val_loss: 133.1885\n",
      "Epoch 15/25\n",
      "60000/60000 [==============================] - 12s 194us/step - loss: 132.6562 - val_loss: 133.0817\n",
      "Epoch 16/25\n",
      "60000/60000 [==============================] - 11s 188us/step - loss: 132.4703 - val_loss: 132.9289\n",
      "Epoch 17/25\n",
      "60000/60000 [==============================] - 10s 175us/step - loss: 132.3333 - val_loss: 132.9251\n",
      "Epoch 18/25\n",
      "60000/60000 [==============================] - 11s 179us/step - loss: 132.1611 - val_loss: 132.7398\n",
      "Epoch 19/25\n",
      "60000/60000 [==============================] - 10s 173us/step - loss: 132.0204 - val_loss: 132.5143\n",
      "Epoch 20/25\n",
      "60000/60000 [==============================] - 10s 164us/step - loss: 131.8752 - val_loss: 132.4413\n",
      "Epoch 21/25\n",
      "60000/60000 [==============================] - 11s 177us/step - loss: 131.7456 - val_loss: 132.3578\n",
      "Epoch 22/25\n",
      "60000/60000 [==============================] - 10s 166us/step - loss: 131.6426 - val_loss: 132.3604\n",
      "Epoch 23/25\n",
      "60000/60000 [==============================] - 11s 189us/step - loss: 131.5558 - val_loss: 132.2470\n",
      "Epoch 24/25\n",
      "60000/60000 [==============================] - 11s 179us/step - loss: 131.4420 - val_loss: 132.1194\n",
      "Epoch 25/25\n",
      "60000/60000 [==============================] - 14s 235us/step - loss: 131.3515 - val_loss: 132.0360\n"
     ]
    }
   ],
   "source": [
    "cvae.compile(optimizer=optim, loss=vae_loss)\n",
    "\n",
    "cvae_hist = cvae.fit([X_train, y_train], X_train, verbose = 1, batch_size=m, epochs=n_epoch,\n",
    "                     validation_data = ([X_test, y_test], X_test),\n",
    "                     callbacks = [EarlyStopping(patience = 5)])"
   ]
  },
  {
   "cell_type": "markdown",
   "metadata": {},
   "source": [
    "### Defining the MNIST Classifier"
   ]
  },
  {
   "cell_type": "code",
   "execution_count": null,
   "metadata": {},
   "outputs": [
    {
     "name": "stdout",
     "output_type": "stream",
     "text": [
      "Train on 60000 samples, validate on 10000 samples\n",
      "Epoch 1/10\n",
      "60000/60000 [==============================] - 301s 5ms/step - loss: 0.2245 - acc: 0.9304 - val_loss: 0.0552 - val_acc: 0.9821\n",
      "Epoch 2/10\n",
      "60000/60000 [==============================] - 286s 5ms/step - loss: 0.0705 - acc: 0.9816 - val_loss: 0.0461 - val_acc: 0.9879\n",
      "Epoch 3/10\n",
      "60000/60000 [==============================] - 332s 6ms/step - loss: 0.0536 - acc: 0.9857 - val_loss: 0.0307 - val_acc: 0.9917\n",
      "Epoch 4/10\n",
      "60000/60000 [==============================] - 314s 5ms/step - loss: 0.0455 - acc: 0.9886 - val_loss: 0.0294 - val_acc: 0.9924\n",
      "Epoch 5/10\n",
      "60000/60000 [==============================] - 323s 5ms/step - loss: 0.0362 - acc: 0.9910 - val_loss: 0.0420 - val_acc: 0.9894\n",
      "Epoch 6/10\n",
      "60000/60000 [==============================] - 322s 5ms/step - loss: 0.0349 - acc: 0.9916 - val_loss: 0.0380 - val_acc: 0.9914\n",
      "Epoch 7/10\n",
      "60000/60000 [==============================] - 319s 5ms/step - loss: 0.0303 - acc: 0.9923 - val_loss: 0.0402 - val_acc: 0.9915\n",
      "Epoch 8/10\n",
      "25408/60000 [===========>..................] - ETA: 2:56 - loss: 0.0255 - acc: 0.9930"
     ]
    }
   ],
   "source": [
    "from keras.models import Sequential\n",
    "from keras.layers import Dense, Activation, Dropout\n",
    "from keras.layers import Conv2D, MaxPooling2D, Flatten, BatchNormalization\n",
    "from keras import regularizers\n",
    "\n",
    "model = Sequential()\n",
    "model.add(Conv2D(40, (3, 3), padding='same',input_shape=(28, 28, 1)))\n",
    "model.add(Activation('relu'))\n",
    "model.add(MaxPooling2D(pool_size=(2, 2), strides=(2, 2) ))\n",
    "\n",
    "model.add(Conv2D(160, kernel_size=3, padding=\"same\", activation = 'relu'))\n",
    "model.add(MaxPooling2D(pool_size=(2, 2), strides=(2, 2)))\n",
    "\n",
    "model.add(Conv2D(512, kernel_size=3, padding=\"valid\", activation = 'relu'))\n",
    "model.add(MaxPooling2D(pool_size=(2, 2), strides=(2, 2)))\n",
    "\n",
    "model.add(Flatten())\n",
    "model.add(Dense(units=90, activation='relu'  ))\n",
    "model.add(Dropout(0.1))\n",
    "\n",
    "model.add(Dense(units=90, activation='relu'  ))\n",
    "model.add(Dropout(0.1))\n",
    "\n",
    "model.add(Dense(units=90, activation='relu'  ))\n",
    "model.add(Dropout(0.3))\n",
    "\n",
    "\n",
    "model.add(Activation('relu'))\n",
    "model.add(Dense(10))\n",
    "model.add(Activation('softmax'))\n",
    "\n",
    "# For a multi-class classification problem\n",
    "model.compile(optimizer='adam',\n",
    "              loss='categorical_crossentropy',\n",
    "              metrics=['accuracy'])\n",
    "\n",
    "# Refine the input data\n",
    "(CNN_x_train, CNN_Y_train), (CNN_x_test, CNN_Y_test) = mnist.load_data()\n",
    "\n",
    "# don't forget to NORMALIZE\n",
    "CNN_x_train = np.divide(CNN_x_train, 255)\n",
    "CNN_x_test = np.divide(CNN_x_test, 255)\n",
    "\n",
    "# we must reshape the X data (add a channel dimension)\n",
    "CNN_x_train = CNN_x_train.reshape(tuple(list(CNN_x_train.shape) + [1]))\n",
    "CNN_x_test = CNN_x_test.reshape(tuple(list(CNN_x_test.shape) + [1]))\n",
    "\n",
    "# Train the model, iterating on the data in batches of 32 samples\n",
    "history = model.fit(CNN_x_train, y_train, epochs=10, batch_size=32,\n",
    "                    validation_data=(CNN_x_test, y_test))\n",
    "\n",
    "eval_train = model.evaluate(x=CNN_x_train, y=y_train)\n",
    "\n",
    "eval_test = model.evaluate(x=CNN_x_test, y=y_test)\n",
    "print(\"train error\")\n",
    "print(eval_train)\n",
    "print(\"test error\")\n",
    "print(eval_test)"
   ]
  },
  {
   "cell_type": "code",
   "execution_count": null,
   "metadata": {},
   "outputs": [],
   "source": [
    "print(y_test.shape, X_test.shape)\n",
    "print(y_train.shape, X_train.shape)\n",
    "\n",
    "print(y_test.shape, CNN_x_test.shape)\n",
    "print(y_train.shape, CNN_x_train.shape)\n",
    "\n",
    "CNN_X_train = X_train.reshape(28,28)\n",
    "CNN_X_test = X_test.reshape(28,28)\n",
    "\n",
    "plt.imshow(CNN_X_train[0])"
   ]
  },
  {
   "cell_type": "markdown",
   "metadata": {},
   "source": [
    "## Drawing samples from the models"
   ]
  },
  {
   "cell_type": "code",
   "execution_count": null,
   "metadata": {},
   "outputs": [],
   "source": [
    "# Draw samples from VAE\n",
    "def getSamplesVAE(decoder, N_samples):\n",
    "    latents = np.random.normal(size=(N_samples,2))\n",
    "    x_decoded = decoder.predict(np.array(latents).reshape(1, 2))\n",
    "    return x_decoded\n",
    "\n",
    "# Draw samples from CVAE\n",
    "def construct_numvec(digit, z = [-1, -1]):\n",
    "    out = np.zeros((1, n_z + n_y))\n",
    "    out[:, digit + n_z] = .5\n",
    "    out[:, digit + n_z -1] = .5\n",
    "    if z is None:\n",
    "        return(out)\n",
    "    else:\n",
    "        for i in range(len(z)):\n",
    "            out[:,i] = z[i]\n",
    "        return(out)\n",
    "\n",
    "def getSampleCVAE(decoder, N_samples, digit):\n",
    "    data = []\n",
    "    for i in range(0,len(N_samples)):\n",
    "        data.append(decoder.predict(construct_numvec(digit)))\n",
    "    return np.array(data)\n",
    "\n",
    "# Reshape input data for MNIST Classifier\n",
    "def reshapeMNIST(X):\n",
    "    data = []\n",
    "    for i in X:\n",
    "        data.append(i.reshape(28,28))\n",
    "    data = np.array(data)\n",
    "    data = data.reshape(tuple(list(data.shape) + [1]))\n",
    "    return data\n",
    "\n",
    "def getKLDiv(classifier, X_real, X_gen):\n",
    "    real_prob = classifier.predict(X_real)\n",
    "    gen_prob = classifier.predict(X_gen)\n",
    "    \n",
    "    # Sum up the distributions\n",
    "    P = np.sum(real_prob)/len(real_prob)\n",
    "    Q = np.sum(gen_prob)/len(gen_prob)\n",
    "\n",
    "    # clip to 1 max so the log probability is not weird\n",
    "    P = K.clip(P, K.epsilon(), 1)\n",
    "    Q = K.clip(Q, K.epsilon(), 1)\n",
    "    return K.sum(P * K.log(P / Q), axis=-1)"
   ]
  },
  {
   "cell_type": "markdown",
   "metadata": {},
   "source": [
    "### What does computed probabilities look like?"
   ]
  },
  {
   "cell_type": "code",
   "execution_count": 68,
   "metadata": {},
   "outputs": [],
   "source": [
    "# Generate numbers for VAE\n",
    "\n",
    "\n",
    "\n",
    "# Generate numbers of CVAE\n",
    "\n",
    "\n",
    "\n",
    "# List of real numbers\n",
    "\n",
    "\n",
    "# Inception score for VAE\n",
    "\n",
    "\n",
    "# Inception score for CVAE\n",
    "\n",
    "\n",
    "# VAE FID\n",
    "\n",
    "\n",
    "# CVAE FID\n"
   ]
  },
  {
   "cell_type": "markdown",
   "metadata": {},
   "source": [
    "### Plot the latent space of VAE"
   ]
  },
  {
   "cell_type": "code",
   "execution_count": null,
   "metadata": {},
   "outputs": [],
   "source": [
    "def plot_latents(z, Y_train):\n",
    "    color = ['red','orange','yellow','green','cyan','blue','violet','brown','black','gray']\n",
    "    np.unique(Y_train)\n",
    "    # Colorize the latent space by number\n",
    "    for i in np.unique(Y_train):\n",
    "        out = z[Y_train==i]\n",
    "        plt.scatter(out[:,0], out[:,1], color = color[i], s=1, alpha=0.5, label = str(i))        \n",
    "    plt.xlabel('z1')\n",
    "    plt.ylabel('z2')\n",
    "    plt.legend()\n",
    "\n",
    "z_mu = encoder_mu.predict(X_train)\n",
    "z_sigma = encoder_sigma.predict(X_train)\n",
    "\n",
    "plt.figure(1,figsize(5,5))\n",
    "plot_latents(z_mu, Y_train)\n",
    "plt.title('latent mu')\n",
    "\n",
    "plt.figure(2,figsize(5,5))\n",
    "plot_latents(-z_sigma, Y_train)\n",
    "plt.title('latent sigma')"
   ]
  },
  {
   "cell_type": "code",
   "execution_count": null,
   "metadata": {},
   "outputs": [],
   "source": [
    "plt.imshow(X_train[909].reshape(28, 28), cmap = plt.cm.gray), axis('off')\n",
    "plt.show()"
   ]
  },
  {
   "cell_type": "markdown",
   "metadata": {},
   "source": [
    "We can feed this image into the encoder to see what latent variable settings it has."
   ]
  },
  {
   "cell_type": "code",
   "execution_count": 107,
   "metadata": {},
   "outputs": [
    {
     "data": {
      "image/png": "[encoded data removed]",
      "text/plain": [
       "<Figure size 360x360 with 64 Axes>"
      ]
     },
     "metadata": {
      "needs_background": "light"
     },
     "output_type": "display_data"
    }
   ],
   "source": [
    "dig = [0,1,2,3,4,5,6,7,8,9]\n",
    "sides = len(dig)\n",
    "max_z = 1.5\n",
    "\n",
    "def getNumbersCVAE(dig, sides, max_z):\n",
    "    img_it = 0\n",
    "    for i in range(0, sides):\n",
    "        z1 = (((i / (sides-1)) * max_z)*2) - max_z\n",
    "        for j in range(0, sides):\n",
    "            z2 = (((j / (sides-1)) * max_z)*2) - max_z\n",
    "            z_ = [z1, z2]\n",
    "            vec = construct_numvec(dig, z_)\n",
    "            decoded = cvae_decoder.predict(vec)\n",
    "            subplot(sides, sides, 1 + img_it)\n",
    "            img_it +=1\n",
    "            plt.imshow(decoded.reshape(28, 28), cmap = plt.cm.gray), axis('off')\n",
    "\n",
    "def plotNumbers(numbers):\n",
    "    img_it = 0\n",
    "    for i in range(0, sides):\n",
    "        z1 = (((i / (sides-1)) * max_z)*2) - max_z\n",
    "        for j in range(0, sides):\n",
    "            z2 = (((j / (sides-1)) * max_z)*2) - max_z\n",
    "            z_ = [z1, z2]\n",
    "            vec = construct_numvec(dig, z_)\n",
    "            decoded = cvae_decoder.predict(vec)\n",
    "            subplot(sides, sides, 1 + img_it)\n",
    "            img_it +=1\n",
    "            plt.imshow(decoded.reshape(28, 28), cmap = plt.cm.gray), axis('off')\n",
    "\n",
    "plt.subplots_adjust(left=0, bottom=0, right=1, top=1, wspace=0, hspace=.2)\n",
    "plt.show()"
   ]
  }
 ],
 "metadata": {
  "kernelspec": {
   "display_name": "Python 3",
   "language": "python",
   "name": "python3"
  },
  "language_info": {
   "codemirror_mode": {
    "name": "ipython",
    "version": 3
   },
   "file_extension": ".py",
   "mimetype": "text/x-python",
   "name": "python",
   "nbconvert_exporter": "python",
   "pygments_lexer": "ipython3",
   "version": "3.7.3"
  }
 },
 "nbformat": 4,
 "nbformat_minor": 2
}
